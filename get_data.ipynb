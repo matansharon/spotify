{
 "cells": [
  {
   "cell_type": "code",
   "execution_count": 43,
   "metadata": {},
   "outputs": [],
   "source": [
    "import requests\n",
    "\n",
    "url = \"https://spotify23.p.rapidapi.com/user_profile/\"\n",
    "\n",
    "querystring = {\"id\":\"31isospucw3nu33j6asuaffol4ey\",\"playlistLimit\":\"10\",\"artistLimit\":\"10\"}\n",
    "\n",
    "headers = {\n",
    "\t\"X-RapidAPI-Key\": \"bddfdf70b8mshbb1ca9870c018e7p119c4ejsn7cd1c7ceb114\",\n",
    "\t\"X-RapidAPI-Host\": \"spotify23.p.rapidapi.com\"\n",
    "}\n",
    "\n",
    "response = requests.request(\"GET\", url, headers=headers, params=querystring)\n",
    "\n",
    "\n",
    "url = \"https://spotify23.p.rapidapi.com/playlist/\"\n",
    "\n",
    "querystring = {\"id\":\"6JYm1igxV1J4UQtoS8WhZf\"}\n",
    "\n",
    "headers = {\n",
    "\t\"X-RapidAPI-Key\": \"bddfdf70b8mshbb1ca9870c018e7p119c4ejsn7cd1c7ceb114\",\n",
    "\t\"X-RapidAPI-Host\": \"spotify23.p.rapidapi.com\"\n",
    "}\n",
    "\n",
    "response2 = requests.request(\"GET\", url, headers=headers, params=querystring)\n",
    "\n",
    "\n"
   ]
  },
  {
   "cell_type": "code",
   "execution_count": null,
   "metadata": {},
   "outputs": [],
   "source": [
    "r=response2.json()\n",
    "r\n"
   ]
  }
 ],
 "metadata": {
  "kernelspec": {
   "display_name": "Python 3.9.12 ('base')",
   "language": "python",
   "name": "python3"
  },
  "language_info": {
   "codemirror_mode": {
    "name": "ipython",
    "version": 3
   },
   "file_extension": ".py",
   "mimetype": "text/x-python",
   "name": "python",
   "nbconvert_exporter": "python",
   "pygments_lexer": "ipython3",
   "version": "3.9.12"
  },
  "orig_nbformat": 4,
  "vscode": {
   "interpreter": {
    "hash": "3d5db532c048f37cc8487068e8e1c41ac5ce63d1b52e8a8c32ff882c22c4c18a"
   }
  }
 },
 "nbformat": 4,
 "nbformat_minor": 2
}
